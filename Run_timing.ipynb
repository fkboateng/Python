{
 "cells": [
  {
   "cell_type": "code",
   "execution_count": 2,
   "id": "00ca639a",
   "metadata": {},
   "outputs": [
    {
     "name": "stdin",
     "output_type": "stream",
     "text": [
      "Enter the minutes it took for 10km run today :  3\n",
      "Enter the minutes it took for 10km run today :  656\n",
      "Enter the minutes it took for 10km run today :  Q\n"
     ]
    },
    {
     "name": "stdout",
     "output_type": "stream",
     "text": [
      "329.5\n"
     ]
    }
   ],
   "source": [
    "time_size = 0\n",
    "total_time = 0\n",
    "\n",
    "while True:\n",
    "\n",
    "    time = input('Enter the minutes it took for 10km run today : ').upper()\n",
    "    if time == 'Q':\n",
    "        break\n",
    "    else:\n",
    "        total_time += float(time)\n",
    "        time_size += 1\n",
    "avg_time = total_time/time_size\n",
    "print(avg_time)"
   ]
  },
  {
   "cell_type": "markdown",
   "id": "e42b53cf-071e-422d-bb03-d38791894957",
   "metadata": {},
   "source": [
    "# Calculating Your Average 10km Running Time \n",
    "\n",
    "If you're a runner, you might be interested in keeping track of your progress over time. One way to do this is to calculate your average running time for a certain distance, like 10km.\n",
    "\n",
    "This code snippet can help you do just that. Let's go through it step by step to see how it works.\n",
    "\n",
    "First, we have two variables: time_size and total_time. time_size will keep track of the number of times we enter a running time, while total_time will store the sum of all the running times we enter. These are both initialized to 0 at the start.\n",
    "\n",
    "Next, we have a while loop that will run indefinitely until we tell it to break. Inside the loop, we ask the user to input the minutes it took them to run 10km for a given day. If the user enters 'Q', the loop will break. If the user enters a valid time, it gets added to total_time and the value of time_size is incremented by 1.\n",
    "\n",
    "After the loop ends, we calculate the average time by dividing total_time by time_size. This gives us the average running time in minutes over all the days that we entered. Finally, we print the result.\n",
    "\n",
    "And that's all there is to it! With this code snippet, you can easily track your progress as a runner and see how your average 10km running time changes over time. Just remember to press 'Q' when you want to stop entering times and see your average. Happy running!\n",
    "\n",
    "\n",
    "\n"
   ]
  },
  {
   "cell_type": "code",
   "execution_count": null,
   "id": "744d6c46-220c-40d7-9971-fdd4de02388e",
   "metadata": {},
   "outputs": [],
   "source": []
  }
 ],
 "metadata": {
  "kernelspec": {
   "display_name": "Python 3 (ipykernel)",
   "language": "python",
   "name": "python3"
  },
  "language_info": {
   "codemirror_mode": {
    "name": "ipython",
    "version": 3
   },
   "file_extension": ".py",
   "mimetype": "text/x-python",
   "name": "python",
   "nbconvert_exporter": "python",
   "pygments_lexer": "ipython3",
   "version": "3.9.13"
  },
  "toc": {
   "base_numbering": 1,
   "nav_menu": {},
   "number_sections": true,
   "sideBar": true,
   "skip_h1_title": false,
   "title_cell": "Table of Contents",
   "title_sidebar": "Contents",
   "toc_cell": false,
   "toc_position": {},
   "toc_section_display": true,
   "toc_window_display": false
  }
 },
 "nbformat": 4,
 "nbformat_minor": 5
}
