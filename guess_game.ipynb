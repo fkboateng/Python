{
 "cells": [
  {
   "cell_type": "code",
   "execution_count": 21,
   "id": "21fdba87",
   "metadata": {},
   "outputs": [
    {
     "name": "stdout",
     "output_type": "stream",
     "text": [
      "Guess the number(0 - 5): 5\n",
      "Number 5 is high, try again\n",
      "Guess the number(0 - 5): 5\n",
      "Number 5 is high, try again\n",
      "You lost\n"
     ]
    }
   ],
   "source": [
    "import random\n",
    "num = random.randint(0, 5)\n",
    "attempts = 2\n",
    "i = 1\n",
    "while i <= attempts:\n",
    "    guess = int(input('Guess the number(0 - 5): '))\n",
    "    \n",
    "    if num == guess:\n",
    "        print(f\"Number {guess} is right\")\n",
    "        break\n",
    "    elif num < guess:\n",
    "        print(f\"Number {guess} is high, try again\")\n",
    "    elif num > guess:\n",
    "        print(f\"Number {guess} is low, try again\")\n",
    "    i += 1\n",
    "print('You lost')\n",
    "   "
   ]
  },
  {
   "cell_type": "code",
   "execution_count": null,
   "id": "26706b61",
   "metadata": {},
   "outputs": [],
   "source": []
  },
  {
   "cell_type": "code",
   "execution_count": null,
   "id": "cd1a6c2d",
   "metadata": {},
   "outputs": [],
   "source": []
  }
 ],
 "metadata": {
  "kernelspec": {
   "display_name": "Python 3 (ipykernel)",
   "language": "python",
   "name": "python3"
  },
  "language_info": {
   "codemirror_mode": {
    "name": "ipython",
    "version": 3
   },
   "file_extension": ".py",
   "mimetype": "text/x-python",
   "name": "python",
   "nbconvert_exporter": "python",
   "pygments_lexer": "ipython3",
   "version": "3.9.7"
  },
  "toc": {
   "base_numbering": 1,
   "nav_menu": {},
   "number_sections": true,
   "sideBar": true,
   "skip_h1_title": false,
   "title_cell": "Table of Contents",
   "title_sidebar": "Contents",
   "toc_cell": false,
   "toc_position": {},
   "toc_section_display": true,
   "toc_window_display": false
  }
 },
 "nbformat": 4,
 "nbformat_minor": 5
}
