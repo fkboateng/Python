{
 "cells": [
  {
   "cell_type": "code",
   "execution_count": 2,
   "id": "00ca639a",
   "metadata": {},
   "outputs": [
    {
     "name": "stdin",
     "output_type": "stream",
     "text": [
      "Enter the minutes it took for 10km run today :  3\n",
      "Enter the minutes it took for 10km run today :  656\n",
      "Enter the minutes it took for 10km run today :  Q\n"
     ]
    },
    {
     "name": "stdout",
     "output_type": "stream",
     "text": [
      "329.5\n"
     ]
    }
   ],
   "source": [
    "time_size = 0\n",
    "total_time = 0\n",
    "\n",
    "while True:\n",
    "\n",
    "    time = input('Enter the minutes it took for 10km run today : ').upper()\n",
    "    if time == 'Q':\n",
    "        break\n",
    "    else:\n",
    "        total_time += float(time)\n",
    "        time_size += 1\n",
    "avg_time = total_time/time_size\n",
    "print(avg_time)"
   ]
  },
  {
   "cell_type": "code",
   "execution_count": null,
   "id": "50809843",
   "metadata": {},
   "outputs": [],
   "source": []
  }
 ],
 "metadata": {
  "kernelspec": {
   "display_name": "Python 3 (ipykernel)",
   "language": "python",
   "name": "python3"
  },
  "language_info": {
   "codemirror_mode": {
    "name": "ipython",
    "version": 3
   },
   "file_extension": ".py",
   "mimetype": "text/x-python",
   "name": "python",
   "nbconvert_exporter": "python",
   "pygments_lexer": "ipython3",
   "version": "3.9.7"
  },
  "toc": {
   "base_numbering": 1,
   "nav_menu": {},
   "number_sections": true,
   "sideBar": true,
   "skip_h1_title": false,
   "title_cell": "Table of Contents",
   "title_sidebar": "Contents",
   "toc_cell": false,
   "toc_position": {},
   "toc_section_display": true,
   "toc_window_display": false
  }
 },
 "nbformat": 4,
 "nbformat_minor": 5
}
